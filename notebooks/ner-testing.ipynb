{
 "cells": [
  {
   "cell_type": "code",
   "execution_count": null,
   "metadata": {
    "collapsed": true,
    "ExecuteTime": {
     "start_time": "2023-05-31T20:34:20.560711Z",
     "end_time": "2023-05-31T20:34:22.788446Z"
    }
   },
   "outputs": [],
   "source": [
    "import spacy\n",
    "nlp = spacy.load(\"en_core_web_sm\")"
   ]
  },
  {
   "cell_type": "code",
   "execution_count": null,
   "outputs": [],
   "source": [
    "#Sentence tokenization\n",
    "text = \"Martin J. Thompson is known for his writing skills. He is also good at programming.\"\n",
    "doc = nlp(text)\n",
    "print(doc)"
   ],
   "metadata": {
    "collapsed": false,
    "ExecuteTime": {
     "start_time": "2023-05-31T17:07:51.451046Z",
     "end_time": "2023-05-31T17:07:51.480563Z"
    }
   }
  },
  {
   "cell_type": "code",
   "execution_count": null,
   "outputs": [],
   "source": [
    "for sent in doc.sents:\n",
    "    print (sent)"
   ],
   "metadata": {
    "collapsed": false,
    "ExecuteTime": {
     "start_time": "2023-05-31T17:07:53.816797Z",
     "end_time": "2023-05-31T17:07:53.837128Z"
    }
   }
  },
  {
   "cell_type": "code",
   "execution_count": null,
   "outputs": [],
   "source": [
    "nlp.pipe_names"
   ],
   "metadata": {
    "collapsed": false,
    "ExecuteTime": {
     "start_time": "2023-05-30T21:16:18.018489Z",
     "end_time": "2023-05-30T21:16:18.081879Z"
    }
   }
  },
  {
   "cell_type": "code",
   "execution_count": null,
   "outputs": [],
   "source": [
    "#Named Entity Recognition\n",
    "doc = nlp(\"Tesla Inc is going to acquire Twitter Inc for $45 billion\")\n",
    "for ent in doc.ents:\n",
    "    print(ent.text, \"|\", ent.label_, \"|\", spacy.explain(ent.label_))"
   ],
   "metadata": {
    "collapsed": false,
    "ExecuteTime": {
     "start_time": "2023-05-30T21:17:42.809714Z",
     "end_time": "2023-05-30T21:17:42.879589Z"
    }
   }
  },
  {
   "cell_type": "code",
   "execution_count": null,
   "outputs": [],
   "source": [
    "from spacy import displacy\n",
    "\n",
    "displacy.render(doc, style=\"ent\")"
   ],
   "metadata": {
    "collapsed": false,
    "ExecuteTime": {
     "start_time": "2023-05-30T21:17:45.537099Z",
     "end_time": "2023-05-30T21:17:45.598400Z"
    }
   }
  },
  {
   "cell_type": "code",
   "execution_count": null,
   "outputs": [],
   "source": [
    "nlp.pipe_labels['ner']"
   ],
   "metadata": {
    "collapsed": false,
    "ExecuteTime": {
     "start_time": "2023-05-30T21:18:46.157166Z",
     "end_time": "2023-05-30T21:18:46.307141Z"
    }
   }
  },
  {
   "cell_type": "code",
   "execution_count": null,
   "outputs": [],
   "source": [
    "doc = nlp(\"Apple Computer, Inc. was founded on April 1, 1976, by college dropouts Steve Jobs and Steve Wozniak\")\n",
    "for ent in doc.ents:\n",
    "    print(ent.text, \"|\", ent.label_, \"|\", spacy.explain(ent.label_))"
   ],
   "metadata": {
    "collapsed": false,
    "ExecuteTime": {
     "start_time": "2023-05-30T21:20:20.799420Z",
     "end_time": "2023-05-30T21:20:20.908439Z"
    }
   }
  },
  {
   "cell_type": "code",
   "execution_count": null,
   "outputs": [],
   "source": [
    "# Customize entities\n",
    "doc = nlp(\"Tesla is going to acquire Twitter for $45 billion\")\n",
    "for ent in doc.ents:\n",
    "    print(ent.text, \"|\", ent.label_, \"|\", spacy.explain(ent.label_))"
   ],
   "metadata": {
    "collapsed": false,
    "ExecuteTime": {
     "start_time": "2023-05-30T21:25:32.436094Z",
     "end_time": "2023-05-30T21:25:32.508114Z"
    }
   }
  },
  {
   "cell_type": "code",
   "execution_count": null,
   "outputs": [],
   "source": [
    "type(doc[5:6])"
   ],
   "metadata": {
    "collapsed": false,
    "ExecuteTime": {
     "start_time": "2023-05-30T21:26:35.041612Z",
     "end_time": "2023-05-30T21:26:35.194840Z"
    }
   }
  },
  {
   "cell_type": "code",
   "execution_count": null,
   "outputs": [],
   "source": [
    "# Customize entities\n",
    "from spacy.tokens import Span\n",
    "\n",
    "s1 = Span(doc, 0, 1, label=\"ORG\")\n",
    "s2 = Span(doc, 5, 6, label=\"ORG\")\n",
    "\n",
    "doc.set_ents([s1, s2], default=\"unmodified\")"
   ],
   "metadata": {
    "collapsed": false,
    "ExecuteTime": {
     "start_time": "2023-05-30T21:29:19.162220Z",
     "end_time": "2023-05-30T21:29:19.246075Z"
    }
   }
  },
  {
   "cell_type": "code",
   "execution_count": null,
   "outputs": [],
   "source": [
    "for ent in doc.ents:\n",
    "    print(ent.text, \"|\", ent.label_, \"|\", spacy.explain(ent.label_))"
   ],
   "metadata": {
    "collapsed": false,
    "ExecuteTime": {
     "start_time": "2023-05-30T21:29:43.365953Z",
     "end_time": "2023-05-30T21:29:43.428987Z"
    }
   }
  },
  {
   "cell_type": "code",
   "execution_count": null,
   "outputs": [],
   "source": [
    "#Part of Speech taggin\n",
    "text = \"In the field of computational linguistics, understanding parts-of-speech is essential. SpaCy offers an easy way to parse a text and identify its parts of speech.\""
   ],
   "metadata": {
    "collapsed": false,
    "ExecuteTime": {
     "start_time": "2023-05-31T17:21:21.860421Z",
     "end_time": "2023-05-31T17:21:21.868899Z"
    }
   }
  },
  {
   "cell_type": "code",
   "execution_count": null,
   "outputs": [],
   "source": [
    "doc = nlp(text)\n",
    "for token in doc:\n",
    "    print(token.text, token.pos_)"
   ],
   "metadata": {
    "collapsed": false,
    "ExecuteTime": {
     "start_time": "2023-05-31T17:23:06.381317Z",
     "end_time": "2023-05-31T17:23:06.406999Z"
    }
   }
  },
  {
   "cell_type": "code",
   "execution_count": null,
   "outputs": [],
   "source": [
    "#Extracting Nouns and Noun Chunks\n",
    "for chunk in doc.noun_chunks:\n",
    "    print(chunk.text)"
   ],
   "metadata": {
    "collapsed": false,
    "ExecuteTime": {
     "start_time": "2023-05-31T17:23:08.550810Z",
     "end_time": "2023-05-31T17:23:08.596590Z"
    }
   }
  },
  {
   "cell_type": "code",
   "execution_count": null,
   "outputs": [],
   "source": [
    "#Extracting verbs\n",
    "text = \"Apple Computer, Inc. was founded on April 1, 1976, by college dropouts Steve Jobs and Steve Wozniak\"\n",
    "doc = nlp(text)\n",
    "\n",
    "verbs = [\"VERB\", \"AUX\"]\n",
    "for token in doc:\n",
    "    if token.pos_ in verbs:\n",
    "        print (token.text, token.pos_)"
   ],
   "metadata": {
    "collapsed": false,
    "ExecuteTime": {
     "start_time": "2023-05-31T20:36:37.085674Z",
     "end_time": "2023-05-31T20:36:37.118219Z"
    }
   }
  },
  {
   "cell_type": "code",
   "execution_count": null,
   "outputs": [],
   "source": [
    "#Extracting verb phrases\n",
    "#We import the PhraseMatcher\n",
    "from spacy.matcher import Matcher\n",
    "\n",
    "nlp_matcher = spacy.load(\"en_core_web_sm\")\n",
    "matcher = Matcher(nlp_matcher.vocab)\n",
    "\n",
    "#We create our patterns as a list of dictionaries\n",
    "pattern = [\n",
    "    [{\"POS\": \"AUX\"}, {\"POS\": \"VERB\"}]\n",
    "]\n",
    "\n",
    "matcher.add(\"verb-phrases\", pattern)\n",
    "\n",
    "doc2 = nlp_matcher(text)\n",
    "matches = matcher(doc2)\n",
    "for match in matches:\n",
    "    print(match)\n",
    "    span = doc[match[1]:match[2]]\n",
    "    print(span)"
   ],
   "metadata": {
    "collapsed": false,
    "ExecuteTime": {
     "start_time": "2023-05-31T20:36:39.578114Z",
     "end_time": "2023-05-31T20:36:40.150422Z"
    }
   }
  },
  {
   "cell_type": "code",
   "execution_count": null,
   "outputs": [],
   "source": [
    "#lematization with spaCy\n",
    "for token in doc:\n",
    "    print(token.text, token.lemma_)"
   ],
   "metadata": {
    "collapsed": false,
    "ExecuteTime": {
     "start_time": "2023-05-31T20:38:28.339956Z",
     "end_time": "2023-05-31T20:38:28.385317Z"
    }
   }
  },
  {
   "cell_type": "code",
   "execution_count": null,
   "outputs": [],
   "source": [],
   "metadata": {
    "collapsed": false
   }
  }
 ],
 "metadata": {
  "kernelspec": {
   "display_name": "Python 3",
   "language": "python",
   "name": "python3"
  },
  "language_info": {
   "codemirror_mode": {
    "name": "ipython",
    "version": 2
   },
   "file_extension": ".py",
   "mimetype": "text/x-python",
   "name": "python",
   "nbconvert_exporter": "python",
   "pygments_lexer": "ipython2",
   "version": "2.7.6"
  }
 },
 "nbformat": 4,
 "nbformat_minor": 0
}
